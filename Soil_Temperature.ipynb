{
  "nbformat": 4,
  "nbformat_minor": 0,
  "metadata": {
    "colab": {
      "provenance": []
    },
    "kernelspec": {
      "name": "python3",
      "display_name": "Python 3"
    },
    "language_info": {
      "name": "python"
    }
  },
  "cells": [
    {
      "cell_type": "code",
      "execution_count": null,
      "metadata": {
        "id": "z5dmGYIcMLDU"
      },
      "outputs": [],
      "source": [
        "# Install necessary library\n",
        "!pip install geemap"
      ]
    },
    {
      "cell_type": "code",
      "source": [
        "# Import necessary libraries\n",
        "import ee\n",
        "import geemap\n",
        "import datetime"
      ],
      "metadata": {
        "id": "I0ce4gNrNUBE"
      },
      "execution_count": null,
      "outputs": []
    },
    {
      "cell_type": "code",
      "source": [
        "# Create an interactive map\n",
        "Map = geemap.Map()"
      ],
      "metadata": {
        "id": "tUTAVSj2NUDr"
      },
      "execution_count": null,
      "outputs": []
    },
    {
      "cell_type": "code",
      "source": [
        "# Load the GAUL dataset (Second-Level Administrative Units)\n",
        "gaul = ee.FeatureCollection(\"FAO/GAUL/2015/level2\")\n",
        "\n",
        "# Filter Sabak Bernam administrative unit\n",
        "sabak = gaul.filter(ee.Filter.eq(\"ADM2_NAME\", \"Sabak Bernam\"))\n",
        "\n",
        "# Draw the boundary of Sabak Bernam\n",
        "sabak_boundary = ee.Image().byte().paint(\n",
        "  featureCollection = sabak,\n",
        "  width=3\n",
        ")\n",
        "\n",
        "# Specify the visualisation of the boundary of Sabak Bernam\n",
        "sabak_vis = {\n",
        "    \"palette\": \"black\"\n",
        "}\n",
        "\n",
        "# Add Sabak Bernam's boundary to the map as a layer\n",
        "Map.addLayer(sabak_boundary, sabak_vis, \"Sabak Bernam\")\n",
        "\n",
        "# Center the map on Sabak Bernam\n",
        "Map.centerObject(sabak, 8)\n",
        "\n",
        "# Display the map\n",
        "Map"
      ],
      "metadata": {
        "id": "m4fFoPqwNUGl"
      },
      "execution_count": null,
      "outputs": []
    },
    {
      "cell_type": "code",
      "source": [
        "# Selecting soil temperature in the Sabak Bernam area\n",
        "soil_temp = (ee.ImageCollection('ECMWF/ERA5_LAND/DAILY_AGGR')\n",
        "               .select('soil_temperature_level_1')\n",
        "               .filterDate('2023-03-05', '2023-05-25')\n",
        "               .filterBounds(sabak))\n",
        "\n",
        "# Define the visualisation parameters\n",
        "soil_temp_vis = {\n",
        "  'min': 273,\n",
        "  'max': 312,\n",
        "  'palette': ['lightskyblue', 'mediumspringgreen', 'palegoldenrod', 'orange', 'red'],\n",
        "}\n",
        "\n",
        "image = soil_temp.median()\n",
        "\n",
        "# Adding the image to the map as a layer\n",
        "Map.addLayer(image.clip(sabak), soil_temp_vis, 'Soil Temperature')\n",
        "\n",
        "#Display map\n",
        "Map"
      ],
      "metadata": {
        "id": "4fa4wxBxNUJO"
      },
      "execution_count": null,
      "outputs": []
    },
    {
      "cell_type": "code",
      "source": [
        "#bbox = m.user_roi_bounds()\n",
        "# Sekinchan area\n",
        "bbox=[101.0821, 3.5211, 101.1456, 3.5777]\n",
        "print(\"Sekinchan Area:\", bbox)"
      ],
      "metadata": {
        "id": "1AUanLKvNmhE"
      },
      "execution_count": null,
      "outputs": []
    },
    {
      "cell_type": "code",
      "source": [
        "# Define a function to calculate the mean soil temperature value for each image in the collection within the specified polygon\n",
        "def calculate_mean_soil_temp(image):\n",
        "    meanKelvin = image.reduceRegion(\n",
        "        reducer=ee.Reducer.mean(),\n",
        "        geometry=ee.Geometry.BBox(bbox[0], bbox[1], bbox[2], bbox[3]),\n",
        "        scale=11132,\n",
        "        maxPixels=1e9\n",
        "    ).get('soil_temperature_level_1')\n",
        "\n",
        "    # Convert to Celsius from Kelvin\n",
        "    meanCelsius = ee.Number(meanKelvin).subtract(273.15)\n",
        "\n",
        "    # Create a feature with null geometry\n",
        "    # Set soil temperature value and date as properties\n",
        "    date = ee.Date(image.get('system:time_start')).format('YYYY-MM-dd')\n",
        "    feature = ee.Feature(None, {'date': date, 'soil_temp': meanCelsius})\n",
        "    return feature\n",
        "\n",
        "# Define start and end dates for the first quarter\n",
        "start_date = '2019-03-05'\n",
        "end_date = '2019-05-25'\n",
        "\n",
        "# Initialise values\n",
        "year = 1\n",
        "quarter = 1\n",
        "\n",
        "# Define the start and end dates for the second quarter\n",
        "second_quarter_start_date = '2019-09-05'\n",
        "second_quarter_end_date = '2019-11-25'\n",
        "\n",
        "while (quarter <= 2):\n",
        "    while (year <= 3):\n",
        "        # Load the climate dataset\n",
        "        collection = (ee.ImageCollection('ECMWF/ERA5_LAND/DAILY_AGGR')\n",
        "          .select('soil_temperature_level_1')\n",
        "          .filterDate(start_date, end_date)\n",
        "          .filterBounds(sabak)\n",
        "          .filterBounds(ee.Geometry.BBox(bbox[0], bbox[1], bbox[2], bbox[3])))\n",
        "\n",
        "        # Map the function over the collection to calculate the mean soil temperature value for each image within the specified polygon\n",
        "        time_series = collection.map(calculate_mean_soil_temp)\n",
        "\n",
        "        # Define a name for the exported CSV file\n",
        "        if (quarter==1):\n",
        "          filename = \"Soil Temperature_\" + start_date[0:4] + \"_Q1\"\n",
        "        elif (quarter==2):\n",
        "          filename = \"Soil Temperature_\" + start_date[0:4] + \"_Q2\"\n",
        "\n",
        "        # Export the features to a CSV file\n",
        "        task = ee.batch.Export.table.toDrive(\n",
        "            collection=time_series,\n",
        "            description='soil_temperature',\n",
        "            folder='soil_temp',\n",
        "            fileNamePrefix= filename,\n",
        "            fileFormat='CSV'\n",
        "        )\n",
        "        task.start()\n",
        "\n",
        "        # Convert the start and end dates to datetime objects\n",
        "        start_date_dt = datetime.datetime.strptime(start_date, '%Y-%m-%d')\n",
        "        end_date_dt = datetime.datetime.strptime(end_date, '%Y-%m-%d')\n",
        "\n",
        "        # Increment the year by 1\n",
        "        start_date_dt = start_date_dt.replace(year=start_date_dt.year + 1)\n",
        "        end_date_dt = end_date_dt.replace(year=end_date_dt.year + 1)\n",
        "\n",
        "        # Convert the datetime objects back to strings\n",
        "        start_date = start_date_dt.strftime('%Y-%m-%d')\n",
        "        end_date = end_date_dt.strftime('%Y-%m-%d')\n",
        "\n",
        "        year = year + 1\n",
        "\n",
        "    quarter = quarter + 1\n",
        "\n",
        "    # Set the start and end dates for the second quarter\n",
        "    start_date = second_quarter_start_date\n",
        "    end_date = second_quarter_end_date\n",
        "\n",
        "    year = 1"
      ],
      "metadata": {
        "id": "m7SUymIFOvXj"
      },
      "execution_count": null,
      "outputs": []
    },
    {
      "cell_type": "code",
      "source": [
        "# Check task status\n",
        "task.status()"
      ],
      "metadata": {
        "id": "GMrIP_5nOvbp"
      },
      "execution_count": null,
      "outputs": []
    }
  ]
}