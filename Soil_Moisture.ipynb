{
  "nbformat": 4,
  "nbformat_minor": 0,
  "metadata": {
    "colab": {
      "provenance": []
    },
    "kernelspec": {
      "name": "python3",
      "display_name": "Python 3"
    },
    "language_info": {
      "name": "python"
    }
  },
  "cells": [
    {
      "cell_type": "code",
      "execution_count": null,
      "metadata": {
        "id": "1FUQSD9FA60E"
      },
      "outputs": [],
      "source": [
        "# Install necessary library\n",
        "!pip install geemap"
      ]
    },
    {
      "cell_type": "code",
      "source": [
        "# Import necessary libraries\n",
        "import ee\n",
        "import geemap\n",
        "import datetime"
      ],
      "metadata": {
        "id": "UYi7K08wM1Zo"
      },
      "execution_count": null,
      "outputs": []
    },
    {
      "cell_type": "code",
      "source": [
        "# Create an interactive map\n",
        "Map = geemap.Map()"
      ],
      "metadata": {
        "id": "LrEhWDNEM1jc"
      },
      "execution_count": null,
      "outputs": []
    },
    {
      "cell_type": "code",
      "source": [
        "# Load the GAUL dataset (Second-Level Administrative Units)\n",
        "gaul = ee.FeatureCollection(\"FAO/GAUL/2015/level2\")\n",
        "\n",
        "# Filter Sabak Bernam administrative unit\n",
        "sabak = gaul.filter(ee.Filter.eq(\"ADM2_NAME\", \"Sabak Bernam\"))\n",
        "\n",
        "# Draw the boundary of Sabak Bernam\n",
        "sabak_boundary = ee.Image().byte().paint(\n",
        "  featureCollection = sabak,\n",
        "  width=3\n",
        ")\n",
        "\n",
        "# Specify the visualisation of the boundary of Sabak Bernam\n",
        "sabak_vis = {\n",
        "    \"palette\": \"black\"\n",
        "}\n",
        "\n",
        "# Add Sabak Bernam's boundary to the map as a layer\n",
        "Map.addLayer(sabak_boundary, sabak_vis, \"Sabak Bernam\")\n",
        "\n",
        "# Center the map on Sabak Bernam\n",
        "Map.centerObject(sabak, 8)\n",
        "\n",
        "# Display the map\n",
        "Map"
      ],
      "metadata": {
        "id": "me8cayPxM1mk"
      },
      "execution_count": null,
      "outputs": []
    },
    {
      "cell_type": "code",
      "source": [
        "# Selecting soil moisture in the Sabak Bernam area\n",
        "soil_moisture = (ee.ImageCollection('ECMWF/ERA5_LAND/DAILY_AGGR')\n",
        "                   .select('volumetric_soil_water_layer_1')\n",
        "                   .filterDate('2023-03-05', '2023-05-25')\n",
        "                   .filterBounds(sabak))\n",
        "\n",
        "\n",
        "# Define the visualisation parameters\n",
        "soil_moisture_vis = {\n",
        "  'min': 0.15,\n",
        "  'max': 0.45,\n",
        "  'palette': ['aqua', 'deepskyblue', 'dodgerblue', 'blue'],\n",
        "}\n",
        "\n",
        "image = soil_moisture.median()\n",
        "\n",
        "# Adding the image to the map as a layer\n",
        "Map.addLayer(image.clip(sabak), soil_moisture_vis, 'Soil Moisture')\n",
        "\n",
        "# Display map\n",
        "Map"
      ],
      "metadata": {
        "id": "l7C6rUbZM1pB"
      },
      "execution_count": null,
      "outputs": []
    },
    {
      "cell_type": "code",
      "source": [
        "#bbox = m.user_roi_bounds()\n",
        "# Sekinchan area\n",
        "bbox=[101.0821, 3.5211, 101.1456, 3.5777]\n",
        "print(\"Sekinchan Area:\", bbox)"
      ],
      "metadata": {
        "id": "aNaq7SrvdUN7"
      },
      "execution_count": null,
      "outputs": []
    },
    {
      "cell_type": "code",
      "source": [
        "# Define a function to calculate the mean soil moisture value for each image in the collection within the specified polygon\n",
        "def calculate_mean_soil_moisture(image):\n",
        "    mean = image.reduceRegion(\n",
        "        reducer=ee.Reducer.mean(),\n",
        "        geometry=ee.Geometry.BBox(bbox[0], bbox[1], bbox[2], bbox[3]),\n",
        "        scale=11132,\n",
        "        maxPixels=1e9\n",
        "    )\n",
        "\n",
        "    # Create a feature with null geometry\n",
        "    # Set soil moisture value and date as properties\n",
        "    date = ee.Date(image.get('system:time_start')).format('YYYY-MM-dd')\n",
        "    feature = ee.Feature(None, {'date': date, 'soil_moisture': mean.get('volumetric_soil_water_layer_1')})\n",
        "    return feature\n",
        "\n",
        "# Define start and end dates for the first quarter\n",
        "start_date = '2019-03-05'\n",
        "end_date = '2019-05-25'\n",
        "\n",
        "# Initialise values\n",
        "year = 1\n",
        "quarter = 1\n",
        "\n",
        "# Define the start and end dates for the second quarter\n",
        "second_quarter_start_date = '2019-09-05'\n",
        "second_quarter_end_date = '2019-11-25'\n",
        "\n",
        "while (quarter <= 2):\n",
        "    while (year <= 3):\n",
        "        # Load the climate dataset\n",
        "        collection = (ee.ImageCollection('ECMWF/ERA5_LAND/DAILY_AGGR')\n",
        "          .select('volumetric_soil_water_layer_1')\n",
        "          .filterDate(start_date, end_date)\n",
        "          .filterBounds(sabak)\n",
        "          .filterBounds(ee.Geometry.BBox(bbox[0], bbox[1], bbox[2], bbox[3])))\n",
        "\n",
        "        # Map the function over the collection to calculate the mean soil moisture value for each image within the specified polygon\n",
        "        time_series = collection.map(calculate_mean_soil_moisture)\n",
        "\n",
        "        # Define a name for the exported CSV file\n",
        "        if (quarter==1):\n",
        "          filename = \"Soil Moisture_\" + start_date[0:4] + \"_Q1\"\n",
        "        elif (quarter==2):\n",
        "          filename = \"Soil Moisture_\" + start_date[0:4] + \"_Q2\"\n",
        "\n",
        "        # Export the features to a CSV file\n",
        "        task = ee.batch.Export.table.toDrive(\n",
        "            collection=time_series,\n",
        "            description='soil_moisture',\n",
        "            folder='soil_moisture',\n",
        "            fileNamePrefix= filename,\n",
        "            fileFormat='CSV'\n",
        "        )\n",
        "\n",
        "        task.start()\n",
        "\n",
        "        # Convert the start and end dates to datetime objects\n",
        "        start_date_dt = datetime.datetime.strptime(start_date, '%Y-%m-%d')\n",
        "        end_date_dt = datetime.datetime.strptime(end_date, '%Y-%m-%d')\n",
        "\n",
        "        # Increment the year by 1\n",
        "        start_date_dt = start_date_dt.replace(year=start_date_dt.year + 1)\n",
        "        end_date_dt = end_date_dt.replace(year=end_date_dt.year + 1)\n",
        "\n",
        "        # Convert the datetime objects back to strings\n",
        "        start_date = start_date_dt.strftime('%Y-%m-%d')\n",
        "        end_date = end_date_dt.strftime('%Y-%m-%d')\n",
        "\n",
        "        year = year + 1\n",
        "\n",
        "    quarter = quarter + 1\n",
        "\n",
        "    # Set the start and end dates for the second quarter\n",
        "    start_date = second_quarter_start_date\n",
        "    end_date = second_quarter_end_date\n",
        "\n",
        "    year = 1"
      ],
      "metadata": {
        "id": "OpLB0a2ygYfu"
      },
      "execution_count": null,
      "outputs": []
    },
    {
      "cell_type": "code",
      "source": [
        "# Check task status\n",
        "task.status()"
      ],
      "metadata": {
        "id": "-3n1syhVkZ2Y"
      },
      "execution_count": null,
      "outputs": []
    }
  ]
}